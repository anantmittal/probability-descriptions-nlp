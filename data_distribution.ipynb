{
 "cells": [
  {
   "cell_type": "code",
   "execution_count": 1,
   "metadata": {
    "collapsed": true
   },
   "outputs": [],
   "source": [
    "import pandas as pd"
   ]
  },
  {
   "cell_type": "code",
   "execution_count": 12,
   "metadata": {},
   "outputs": [],
   "source": [
    "df = pd.read_csv(\"data.csv\", delimiter=\"|\")"
   ]
  },
  {
   "cell_type": "code",
   "execution_count": 19,
   "metadata": {},
   "outputs": [],
   "source": [
    "df[['numerator','denominator']] = df[\"probability\"].str.split(\"in\", expand=True)"
   ]
  },
  {
   "cell_type": "code",
   "execution_count": 21,
   "metadata": {},
   "outputs": [],
   "source": [
    "df['denominator'] = df['denominator'].str.strip()"
   ]
  },
  {
   "cell_type": "code",
   "execution_count": 22,
   "metadata": {
    "collapsed": true
   },
   "outputs": [],
   "source": [
    "df[['denominator']] = df[['denominator']].apply(pd.to_numeric)"
   ]
  },
  {
   "cell_type": "code",
   "execution_count": 24,
   "metadata": {},
   "outputs": [
    {
     "name": "stderr",
     "output_type": "stream",
     "text": [
      "/home/anant/anaconda3/lib/python3.6/site-packages/seaborn/categorical.py:1460: FutureWarning: remove_na is deprecated and is a private function. Do not use.\n",
      "  stat_data = remove_na(group_data)\n"
     ]
    }
   ],
   "source": [
    "import numpy as np\n",
    "import seaborn as sns\n",
    "import matplotlib.pyplot as plt\n",
    "\n",
    "f, ax = plt.subplots(figsize=(10, 5))\n",
    "sns.set(style=\"darkgrid\")\n",
    "\n",
    "g = sns.countplot(x=\"denominator\", data=df).set_title('Number of documents that are labelled with each topic number')\n",
    "ax.set(xlabel='Topic Number', ylabel='Number of documents')\n",
    "f.figure"
   ]
  },
  {
   "cell_type": "code",
   "execution_count": 25,
   "metadata": {},
   "outputs": [
    {
     "data": {
      "text/plain": [
       "100                    74\n",
       "1000                   15\n",
       "10000                   6\n",
       "100000                  6\n",
       "4                       5\n",
       "10                      4\n",
       "250                     4\n",
       "11000000                4\n",
       "2                       4\n",
       "5                       3\n",
       "17                      3\n",
       "20000                   3\n",
       "25                      2\n",
       "1000000                 2\n",
       "200                     2\n",
       "75                      2\n",
       "30                      2\n",
       "20000000                2\n",
       "4000                    2\n",
       "5000                    2\n",
       "21000000                2\n",
       "3000                    2\n",
       "10287                   1\n",
       "13                      1\n",
       "15                      1\n",
       "3748067                 1\n",
       "800000.                 1\n",
       "9                       1\n",
       "7                       1\n",
       "30000                   1\n",
       "                       ..\n",
       "161856                  1\n",
       "403                     1\n",
       "1100                    1\n",
       "365                     1\n",
       "21                      1\n",
       "12000000                1\n",
       "500000                  1\n",
       "9223372036854775808     1\n",
       "70000                   1\n",
       "101083                  1\n",
       "645                     1\n",
       "2.1                     1\n",
       "13983816                1\n",
       "1                       1\n",
       "8145060                 1\n",
       "350                     1\n",
       "84                      1\n",
       "24                      1\n",
       "80                      1\n",
       "15000                   1\n",
       "66                      1\n",
       "96                      1\n",
       "1600000                 1\n",
       "36                      1\n",
       "9799                    1\n",
       "13983815                1\n",
       "60                      1\n",
       "10737573                1\n",
       "49000                   1\n",
       "400000000000000         1\n",
       "Name: denominator, Length: 97, dtype: int64"
      ]
     },
     "execution_count": 25,
     "metadata": {},
     "output_type": "execute_result"
    }
   ],
   "source": [
    "df['denominator'].value_counts()"
   ]
  },
  {
   "cell_type": "code",
   "execution_count": null,
   "metadata": {
    "collapsed": true
   },
   "outputs": [],
   "source": []
  }
 ],
 "metadata": {
  "kernelspec": {
   "display_name": "Python 3",
   "language": "python",
   "name": "python3"
  },
  "language_info": {
   "codemirror_mode": {
    "name": "ipython",
    "version": 3
   },
   "file_extension": ".py",
   "mimetype": "text/x-python",
   "name": "python",
   "nbconvert_exporter": "python",
   "pygments_lexer": "ipython3",
   "version": "3.6.3"
  }
 },
 "nbformat": 4,
 "nbformat_minor": 2
}
